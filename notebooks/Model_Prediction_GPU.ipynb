{
  "nbformat": 4,
  "nbformat_minor": 0,
  "metadata": {
    "colab": {
      "provenance": [],
      "gpuType": "T4",
      "authorship_tag": "ABX9TyPJw/rvwPm/ReEDeYhiPQ+Z",
      "include_colab_link": true
    },
    "kernelspec": {
      "name": "python3",
      "display_name": "Python 3"
    },
    "language_info": {
      "name": "python"
    },
    "accelerator": "GPU"
  },
  "cells": [
    {
      "cell_type": "markdown",
      "metadata": {
        "id": "view-in-github",
        "colab_type": "text"
      },
      "source": [
        "<a href=\"https://colab.research.google.com/github/samanthajmichael/ml_project/blob/main/notebooks/Model_Prediction_GPU.ipynb\" target=\"_parent\"><img src=\"https://colab.research.google.com/assets/colab-badge.svg\" alt=\"Open In Colab\"/></a>"
      ]
    },
    {
      "cell_type": "code",
      "execution_count": 1,
      "metadata": {
        "id": "_QrqMVoERnmc"
      },
      "outputs": [],
      "source": [
        "%%capture\n",
        "!pip install tensorflow ffmpeg-python opencv-python matplotlib"
      ]
    },
    {
      "cell_type": "code",
      "source": [
        "from google.colab import drive\n",
        "drive.mount('/content/drive', force_remount=True)"
      ],
      "metadata": {
        "colab": {
          "base_uri": "https://localhost:8080/"
        },
        "id": "yQACokNrRpag",
        "outputId": "cdeb0c83-0c4b-40fb-f5d7-a2ea6e84ff6c"
      },
      "execution_count": 2,
      "outputs": [
        {
          "output_type": "stream",
          "name": "stdout",
          "text": [
            "Mounted at /content/drive\n"
          ]
        }
      ]
    },
    {
      "cell_type": "code",
      "source": [
        "import tensorflow as tf\n",
        "import cv2\n",
        "import numpy as np\n",
        "import pandas as pd\n",
        "from tensorflow.keras.layers import Dense, Reshape, Input, Lambda, Lambda, GlobalAveragePooling2D\n",
        "from tensorflow.keras.models import Model\n",
        "from tensorflow.keras.applications import ResNet50"
      ],
      "metadata": {
        "id": "DT0qBFt8UuHS"
      },
      "execution_count": 3,
      "outputs": []
    },
    {
      "cell_type": "code",
      "source": [
        "df = pd.read_pickle(\"/content/drive/MyDrive/ML Project/middle_15min_frames.pkl\")"
      ],
      "metadata": {
        "id": "QnbPyGvMWR4c"
      },
      "execution_count": 4,
      "outputs": []
    },
    {
      "cell_type": "code",
      "source": [
        "df.describe()"
      ],
      "metadata": {
        "colab": {
          "base_uri": "https://localhost:8080/",
          "height": 300
        },
        "id": "F6RY-u9KW8y3",
        "outputId": "49398e68-62dc-4aff-cc6d-83f7067beb60"
      },
      "execution_count": 5,
      "outputs": [
        {
          "output_type": "execute_result",
          "data": {
            "text/plain": [
              "        frame_number\n",
              "count   20700.000000\n",
              "mean    92814.500000\n",
              "std      5975.719622\n",
              "min     82465.000000\n",
              "25%     87639.750000\n",
              "50%     92814.500000\n",
              "75%     97989.250000\n",
              "max    103164.000000"
            ],
            "text/html": [
              "\n",
              "  <div id=\"df-b7959fca-af2d-4db8-8282-81230f436646\" class=\"colab-df-container\">\n",
              "    <div>\n",
              "<style scoped>\n",
              "    .dataframe tbody tr th:only-of-type {\n",
              "        vertical-align: middle;\n",
              "    }\n",
              "\n",
              "    .dataframe tbody tr th {\n",
              "        vertical-align: top;\n",
              "    }\n",
              "\n",
              "    .dataframe thead th {\n",
              "        text-align: right;\n",
              "    }\n",
              "</style>\n",
              "<table border=\"1\" class=\"dataframe\">\n",
              "  <thead>\n",
              "    <tr style=\"text-align: right;\">\n",
              "      <th></th>\n",
              "      <th>frame_number</th>\n",
              "    </tr>\n",
              "  </thead>\n",
              "  <tbody>\n",
              "    <tr>\n",
              "      <th>count</th>\n",
              "      <td>20700.000000</td>\n",
              "    </tr>\n",
              "    <tr>\n",
              "      <th>mean</th>\n",
              "      <td>92814.500000</td>\n",
              "    </tr>\n",
              "    <tr>\n",
              "      <th>std</th>\n",
              "      <td>5975.719622</td>\n",
              "    </tr>\n",
              "    <tr>\n",
              "      <th>min</th>\n",
              "      <td>82465.000000</td>\n",
              "    </tr>\n",
              "    <tr>\n",
              "      <th>25%</th>\n",
              "      <td>87639.750000</td>\n",
              "    </tr>\n",
              "    <tr>\n",
              "      <th>50%</th>\n",
              "      <td>92814.500000</td>\n",
              "    </tr>\n",
              "    <tr>\n",
              "      <th>75%</th>\n",
              "      <td>97989.250000</td>\n",
              "    </tr>\n",
              "    <tr>\n",
              "      <th>max</th>\n",
              "      <td>103164.000000</td>\n",
              "    </tr>\n",
              "  </tbody>\n",
              "</table>\n",
              "</div>\n",
              "    <div class=\"colab-df-buttons\">\n",
              "\n",
              "  <div class=\"colab-df-container\">\n",
              "    <button class=\"colab-df-convert\" onclick=\"convertToInteractive('df-b7959fca-af2d-4db8-8282-81230f436646')\"\n",
              "            title=\"Convert this dataframe to an interactive table.\"\n",
              "            style=\"display:none;\">\n",
              "\n",
              "  <svg xmlns=\"http://www.w3.org/2000/svg\" height=\"24px\" viewBox=\"0 -960 960 960\">\n",
              "    <path d=\"M120-120v-720h720v720H120Zm60-500h600v-160H180v160Zm220 220h160v-160H400v160Zm0 220h160v-160H400v160ZM180-400h160v-160H180v160Zm440 0h160v-160H620v160ZM180-180h160v-160H180v160Zm440 0h160v-160H620v160Z\"/>\n",
              "  </svg>\n",
              "    </button>\n",
              "\n",
              "  <style>\n",
              "    .colab-df-container {\n",
              "      display:flex;\n",
              "      gap: 12px;\n",
              "    }\n",
              "\n",
              "    .colab-df-convert {\n",
              "      background-color: #E8F0FE;\n",
              "      border: none;\n",
              "      border-radius: 50%;\n",
              "      cursor: pointer;\n",
              "      display: none;\n",
              "      fill: #1967D2;\n",
              "      height: 32px;\n",
              "      padding: 0 0 0 0;\n",
              "      width: 32px;\n",
              "    }\n",
              "\n",
              "    .colab-df-convert:hover {\n",
              "      background-color: #E2EBFA;\n",
              "      box-shadow: 0px 1px 2px rgba(60, 64, 67, 0.3), 0px 1px 3px 1px rgba(60, 64, 67, 0.15);\n",
              "      fill: #174EA6;\n",
              "    }\n",
              "\n",
              "    .colab-df-buttons div {\n",
              "      margin-bottom: 4px;\n",
              "    }\n",
              "\n",
              "    [theme=dark] .colab-df-convert {\n",
              "      background-color: #3B4455;\n",
              "      fill: #D2E3FC;\n",
              "    }\n",
              "\n",
              "    [theme=dark] .colab-df-convert:hover {\n",
              "      background-color: #434B5C;\n",
              "      box-shadow: 0px 1px 3px 1px rgba(0, 0, 0, 0.15);\n",
              "      filter: drop-shadow(0px 1px 2px rgba(0, 0, 0, 0.3));\n",
              "      fill: #FFFFFF;\n",
              "    }\n",
              "  </style>\n",
              "\n",
              "    <script>\n",
              "      const buttonEl =\n",
              "        document.querySelector('#df-b7959fca-af2d-4db8-8282-81230f436646 button.colab-df-convert');\n",
              "      buttonEl.style.display =\n",
              "        google.colab.kernel.accessAllowed ? 'block' : 'none';\n",
              "\n",
              "      async function convertToInteractive(key) {\n",
              "        const element = document.querySelector('#df-b7959fca-af2d-4db8-8282-81230f436646');\n",
              "        const dataTable =\n",
              "          await google.colab.kernel.invokeFunction('convertToInteractive',\n",
              "                                                    [key], {});\n",
              "        if (!dataTable) return;\n",
              "\n",
              "        const docLinkHtml = 'Like what you see? Visit the ' +\n",
              "          '<a target=\"_blank\" href=https://colab.research.google.com/notebooks/data_table.ipynb>data table notebook</a>'\n",
              "          + ' to learn more about interactive tables.';\n",
              "        element.innerHTML = '';\n",
              "        dataTable['output_type'] = 'display_data';\n",
              "        await google.colab.output.renderOutput(dataTable, element);\n",
              "        const docLink = document.createElement('div');\n",
              "        docLink.innerHTML = docLinkHtml;\n",
              "        element.appendChild(docLink);\n",
              "      }\n",
              "    </script>\n",
              "  </div>\n",
              "\n",
              "\n",
              "<div id=\"df-77ab997f-afda-4d41-9783-6f54377478c5\">\n",
              "  <button class=\"colab-df-quickchart\" onclick=\"quickchart('df-77ab997f-afda-4d41-9783-6f54377478c5')\"\n",
              "            title=\"Suggest charts\"\n",
              "            style=\"display:none;\">\n",
              "\n",
              "<svg xmlns=\"http://www.w3.org/2000/svg\" height=\"24px\"viewBox=\"0 0 24 24\"\n",
              "     width=\"24px\">\n",
              "    <g>\n",
              "        <path d=\"M19 3H5c-1.1 0-2 .9-2 2v14c0 1.1.9 2 2 2h14c1.1 0 2-.9 2-2V5c0-1.1-.9-2-2-2zM9 17H7v-7h2v7zm4 0h-2V7h2v10zm4 0h-2v-4h2v4z\"/>\n",
              "    </g>\n",
              "</svg>\n",
              "  </button>\n",
              "\n",
              "<style>\n",
              "  .colab-df-quickchart {\n",
              "      --bg-color: #E8F0FE;\n",
              "      --fill-color: #1967D2;\n",
              "      --hover-bg-color: #E2EBFA;\n",
              "      --hover-fill-color: #174EA6;\n",
              "      --disabled-fill-color: #AAA;\n",
              "      --disabled-bg-color: #DDD;\n",
              "  }\n",
              "\n",
              "  [theme=dark] .colab-df-quickchart {\n",
              "      --bg-color: #3B4455;\n",
              "      --fill-color: #D2E3FC;\n",
              "      --hover-bg-color: #434B5C;\n",
              "      --hover-fill-color: #FFFFFF;\n",
              "      --disabled-bg-color: #3B4455;\n",
              "      --disabled-fill-color: #666;\n",
              "  }\n",
              "\n",
              "  .colab-df-quickchart {\n",
              "    background-color: var(--bg-color);\n",
              "    border: none;\n",
              "    border-radius: 50%;\n",
              "    cursor: pointer;\n",
              "    display: none;\n",
              "    fill: var(--fill-color);\n",
              "    height: 32px;\n",
              "    padding: 0;\n",
              "    width: 32px;\n",
              "  }\n",
              "\n",
              "  .colab-df-quickchart:hover {\n",
              "    background-color: var(--hover-bg-color);\n",
              "    box-shadow: 0 1px 2px rgba(60, 64, 67, 0.3), 0 1px 3px 1px rgba(60, 64, 67, 0.15);\n",
              "    fill: var(--button-hover-fill-color);\n",
              "  }\n",
              "\n",
              "  .colab-df-quickchart-complete:disabled,\n",
              "  .colab-df-quickchart-complete:disabled:hover {\n",
              "    background-color: var(--disabled-bg-color);\n",
              "    fill: var(--disabled-fill-color);\n",
              "    box-shadow: none;\n",
              "  }\n",
              "\n",
              "  .colab-df-spinner {\n",
              "    border: 2px solid var(--fill-color);\n",
              "    border-color: transparent;\n",
              "    border-bottom-color: var(--fill-color);\n",
              "    animation:\n",
              "      spin 1s steps(1) infinite;\n",
              "  }\n",
              "\n",
              "  @keyframes spin {\n",
              "    0% {\n",
              "      border-color: transparent;\n",
              "      border-bottom-color: var(--fill-color);\n",
              "      border-left-color: var(--fill-color);\n",
              "    }\n",
              "    20% {\n",
              "      border-color: transparent;\n",
              "      border-left-color: var(--fill-color);\n",
              "      border-top-color: var(--fill-color);\n",
              "    }\n",
              "    30% {\n",
              "      border-color: transparent;\n",
              "      border-left-color: var(--fill-color);\n",
              "      border-top-color: var(--fill-color);\n",
              "      border-right-color: var(--fill-color);\n",
              "    }\n",
              "    40% {\n",
              "      border-color: transparent;\n",
              "      border-right-color: var(--fill-color);\n",
              "      border-top-color: var(--fill-color);\n",
              "    }\n",
              "    60% {\n",
              "      border-color: transparent;\n",
              "      border-right-color: var(--fill-color);\n",
              "    }\n",
              "    80% {\n",
              "      border-color: transparent;\n",
              "      border-right-color: var(--fill-color);\n",
              "      border-bottom-color: var(--fill-color);\n",
              "    }\n",
              "    90% {\n",
              "      border-color: transparent;\n",
              "      border-bottom-color: var(--fill-color);\n",
              "    }\n",
              "  }\n",
              "</style>\n",
              "\n",
              "  <script>\n",
              "    async function quickchart(key) {\n",
              "      const quickchartButtonEl =\n",
              "        document.querySelector('#' + key + ' button');\n",
              "      quickchartButtonEl.disabled = true;  // To prevent multiple clicks.\n",
              "      quickchartButtonEl.classList.add('colab-df-spinner');\n",
              "      try {\n",
              "        const charts = await google.colab.kernel.invokeFunction(\n",
              "            'suggestCharts', [key], {});\n",
              "      } catch (error) {\n",
              "        console.error('Error during call to suggestCharts:', error);\n",
              "      }\n",
              "      quickchartButtonEl.classList.remove('colab-df-spinner');\n",
              "      quickchartButtonEl.classList.add('colab-df-quickchart-complete');\n",
              "    }\n",
              "    (() => {\n",
              "      let quickchartButtonEl =\n",
              "        document.querySelector('#df-77ab997f-afda-4d41-9783-6f54377478c5 button');\n",
              "      quickchartButtonEl.style.display =\n",
              "        google.colab.kernel.accessAllowed ? 'block' : 'none';\n",
              "    })();\n",
              "  </script>\n",
              "</div>\n",
              "\n",
              "    </div>\n",
              "  </div>\n"
            ],
            "application/vnd.google.colaboratory.intrinsic+json": {
              "type": "dataframe",
              "summary": "{\n  \"name\": \"df\",\n  \"rows\": 8,\n  \"fields\": [\n    {\n      \"column\": \"frame_number\",\n      \"properties\": {\n        \"dtype\": \"number\",\n        \"std\": 37513.78241118495,\n        \"min\": 5975.719621936759,\n        \"max\": 103164.0,\n        \"num_unique_values\": 7,\n        \"samples\": [\n          20700.0,\n          92814.5,\n          97989.25\n        ],\n        \"semantic_type\": \"\",\n        \"description\": \"\"\n      }\n    }\n  ]\n}"
            }
          },
          "metadata": {},
          "execution_count": 5
        }
      ]
    },
    {
      "cell_type": "code",
      "source": [
        "initial_learning_rate = 0.001\n",
        "decay_steps = 1000\n",
        "decay_rate = 0.9\n",
        "\n",
        "lr_schedule = tf.keras.optimizers.schedules.ExponentialDecay(\n",
        "    initial_learning_rate,\n",
        "    decay_steps=decay_steps,\n",
        "    decay_rate=decay_rate,\n",
        "    staircase=True\n",
        ")"
      ],
      "metadata": {
        "id": "pTbOqvpBPxvu"
      },
      "execution_count": 6,
      "outputs": []
    },
    {
      "cell_type": "code",
      "source": [
        "def create_base_model(input_shape=(224, 224, 3)):\n",
        "    base_model = ResNet50(weights=None, include_top=False, input_shape=input_shape)\n",
        "    x = GlobalAveragePooling2D()(base_model.output)\n",
        "    x = tf.keras.layers.BatchNormalization()(x)\n",
        "    x = Dense(128, activation='relu')(x)\n",
        "    # Replace Lambda layer with direct normalization in the forward pass\n",
        "    outputs = tf.keras.layers.Lambda(\n",
        "        lambda x: tf.math.l2_normalize(x, axis=1),\n",
        "        output_shape=lambda input_shape: input_shape\n",
        "    )(x)\n",
        "    return Model(inputs=base_model.input, outputs=outputs)"
      ],
      "metadata": {
        "id": "eWBvHxxOGX-S"
      },
      "execution_count": 7,
      "outputs": []
    },
    {
      "cell_type": "code",
      "source": [
        "base_model = create_base_model()\n",
        "base_model.load_weights('/content/drive/MyDrive/ML Project/trained_base_model_4_epochs.keras')"
      ],
      "metadata": {
        "id": "p7RDmTGoUJ1s"
      },
      "execution_count": 8,
      "outputs": []
    },
    {
      "cell_type": "code",
      "source": [
        "print(base_model)"
      ],
      "metadata": {
        "colab": {
          "base_uri": "https://localhost:8080/"
        },
        "id": "tHdEnw1MVcqy",
        "outputId": "cf773db5-3ac6-4735-ea61-241c9fff709e"
      },
      "execution_count": 9,
      "outputs": [
        {
          "output_type": "stream",
          "name": "stdout",
          "text": [
            "<keras.src.engine.functional.Functional object at 0x7b56440e7d90>\n"
          ]
        }
      ]
    },
    {
      "cell_type": "code",
      "source": [
        "def load_and_preprocess_frame(frame_data, target_size=(224, 224)):\n",
        "    nparr = np.frombuffer(frame_data, np.uint8)\n",
        "    img = cv2.imdecode(nparr, cv2.IMREAD_COLOR)\n",
        "    img = cv2.cvtColor(img, cv2.COLOR_BGR2RGB)\n",
        "    img = cv2.resize(img, target_size)\n",
        "    img = img.astype(np.float32) / 255.0\n",
        "    return img\n",
        "\n",
        "def augment_frames(frames):\n",
        "    # Convert to tensor if not already\n",
        "    frames = tf.convert_to_tensor(frames, dtype=tf.float32)\n",
        "\n",
        "    # Apply various augmentations\n",
        "    frames = tf.image.random_brightness(frames, 0.2)\n",
        "    frames = tf.image.random_contrast(frames, 0.8, 1.2)\n",
        "    frames = tf.image.random_saturation(frames, 0.8, 1.2)\n",
        "\n",
        "    # Ensure values stay in valid range\n",
        "    frames = tf.clip_by_value(frames, 0.0, 1.0)\n",
        "    return frames\n",
        "\n",
        "def create_decoder(input_shape=(128,)):\n",
        "    inputs = Input(shape=input_shape)\n",
        "    # Add dropout and increase layer width\n",
        "    x = Dense(1024, activation='relu')(inputs)\n",
        "    x = tf.keras.layers.Dropout(0.2)(x)\n",
        "    x = Dense(2048, activation='relu')(x)\n",
        "    x = tf.keras.layers.Dropout(0.2)(x)\n",
        "    x = Dense(224 * 224 * 3, activation='sigmoid')(x)\n",
        "    outputs = Reshape((224, 224, 3))(x)\n",
        "    return Model(inputs=inputs, outputs=outputs)\n",
        "\n",
        "# Create and compile decoder with explicit optimizer\n",
        "decoder = create_decoder()\n",
        "decoder.compile(\n",
        "    optimizer=tf.keras.optimizers.Adam(learning_rate=lr_schedule),\n",
        "    loss='mse'\n",
        ")\n",
        "\n",
        "def generate_decoder_data(model, df, batch_size=32):\n",
        "    while True:\n",
        "        batch = df.sample(n=batch_size)\n",
        "        frames = np.stack([load_and_preprocess_frame(frame_data) for frame_data in batch['frame_data']])\n",
        "        frames = tf.convert_to_tensor(frames, dtype=tf.float32)\n",
        "\n",
        "        # Apply augmentation to input frames\n",
        "        augmented_frames = augment_frames(frames)\n",
        "\n",
        "        # Get features from augmented frames\n",
        "        features = model(augmented_frames, training=False)\n",
        "\n",
        "        # Return features and original frames (not augmented) as targets\n",
        "        yield features.numpy(), frames\n",
        "\n",
        "# Add callbacks for monitoring and early stopping\n",
        "callbacks = [\n",
        "    tf.keras.callbacks.EarlyStopping(\n",
        "        monitor='loss',\n",
        "        patience=5,\n",
        "        restore_best_weights=True\n",
        "    ),\n",
        "    tf.keras.callbacks.ReduceLROnPlateau(\n",
        "        monitor='loss',\n",
        "        factor=0.5,\n",
        "        patience=3,\n",
        "        min_lr=1e-6\n",
        "    ),\n",
        "    tf.keras.callbacks.ModelCheckpoint(\n",
        "        'best_decoder_model.keras',\n",
        "        monitor='loss',\n",
        "        save_best_only=True\n",
        "    )\n",
        "]\n",
        "\n",
        "def train_decoder(model, decoder, df, epochs=1, steps_per_epoch=50, batch_size=32):\n",
        "    generator = generate_decoder_data(model, df, batch_size)\n",
        "\n",
        "    history = decoder.fit(\n",
        "        generator,\n",
        "        steps_per_epoch=steps_per_epoch,\n",
        "        epochs=epochs,\n",
        "        verbose=1,\n",
        "        callbacks=callbacks  # Add callbacks here\n",
        "    )\n",
        "\n",
        "    return history"
      ],
      "metadata": {
        "id": "gF84RwDEU3o5"
      },
      "execution_count": 10,
      "outputs": []
    },
    {
      "cell_type": "code",
      "source": [
        "# Train with increased epochs and batch size\n",
        "history = train_decoder(\n",
        "    base_model,\n",
        "    decoder,\n",
        "    df,\n",
        "    epochs=5,\n",
        "    steps_per_epoch=100,\n",
        "    batch_size=32\n",
        ")"
      ],
      "metadata": {
        "colab": {
          "base_uri": "https://localhost:8080/"
        },
        "id": "TbFj4ylxQrWs",
        "outputId": "83470cef-f252-43ac-d109-b9106e3b2901"
      },
      "execution_count": null,
      "outputs": [
        {
          "output_type": "stream",
          "name": "stdout",
          "text": [
            "Epoch 1/10\n",
            "100/100 [==============================] - 609s 6s/step - loss: 0.0450 - lr: 0.0010\n",
            "Epoch 2/10\n",
            "100/100 [==============================] - 600s 6s/step - loss: 0.0200 - lr: 0.0010\n",
            "Epoch 3/10\n",
            "100/100 [==============================] - 576s 6s/step - loss: 0.0201 - lr: 0.0010\n",
            "Epoch 4/10\n",
            "100/100 [==============================] - 606s 6s/step - loss: 0.0198 - lr: 0.0010\n",
            "Epoch 5/10\n",
            "100/100 [==============================] - 572s 6s/step - loss: 0.0199 - lr: 0.0010\n",
            "Epoch 6/10\n",
            "100/100 [==============================] - 599s 6s/step - loss: 0.0197 - lr: 0.0010\n",
            "Epoch 7/10\n",
            "100/100 [==============================] - 587s 6s/step - loss: 0.0195 - lr: 0.0010\n",
            "Epoch 8/10\n",
            "100/100 [==============================] - 583s 6s/step - loss: 0.0191 - lr: 0.0010\n",
            "Epoch 9/10\n",
            "100/100 [==============================] - 572s 6s/step - loss: 0.0194 - lr: 0.0010\n",
            "Epoch 10/10\n",
            " 35/100 [=========>....................] - ETA: 6:24 - loss: 0.0189"
          ]
        }
      ]
    },
    {
      "cell_type": "code",
      "source": [
        "# Save the trained decoder\n",
        "decoder.save('/content/drive/MyDrive/ML Project/trained_decoder_4.keras')"
      ],
      "metadata": {
        "id": "JgBvyraSXItd",
        "colab": {
          "base_uri": "https://localhost:8080/",
          "height": 159
        },
        "outputId": "6bd8149a-004e-4320-b8e1-de86b17b5535"
      },
      "execution_count": 1,
      "outputs": [
        {
          "output_type": "error",
          "ename": "NameError",
          "evalue": "name 'decoder' is not defined",
          "traceback": [
            "\u001b[0;31m---------------------------------------------------------------------------\u001b[0m",
            "\u001b[0;31mNameError\u001b[0m                                 Traceback (most recent call last)",
            "\u001b[0;32m<ipython-input-1-4644d213d661>\u001b[0m in \u001b[0;36m<cell line: 2>\u001b[0;34m()\u001b[0m\n\u001b[1;32m      1\u001b[0m \u001b[0;31m# Save the trained decoder\u001b[0m\u001b[0;34m\u001b[0m\u001b[0;34m\u001b[0m\u001b[0m\n\u001b[0;32m----> 2\u001b[0;31m \u001b[0mdecoder\u001b[0m\u001b[0;34m.\u001b[0m\u001b[0msave\u001b[0m\u001b[0;34m(\u001b[0m\u001b[0;34m'/content/drive/MyDrive/ML Project/trained_decoder_4.keras'\u001b[0m\u001b[0;34m)\u001b[0m\u001b[0;34m\u001b[0m\u001b[0;34m\u001b[0m\u001b[0m\n\u001b[0m",
            "\u001b[0;31mNameError\u001b[0m: name 'decoder' is not defined"
          ]
        }
      ]
    },
    {
      "cell_type": "code",
      "source": [
        "def preprocess_frame_for_prediction(frame_data, target_size=(224, 224)):\n",
        "    img = load_and_preprocess_frame(frame_data, target_size)\n",
        "    return np.expand_dims(img, axis=0)  # Add batch dimension"
      ],
      "metadata": {
        "id": "nEsb6YyabqLA"
      },
      "execution_count": null,
      "outputs": []
    },
    {
      "cell_type": "code",
      "source": [
        "def predict_frame(model, frame_data):\n",
        "    preprocessed_frame = preprocess_frame_for_prediction(frame_data)\n",
        "    prediction = model.predict(preprocessed_frame)\n",
        "    return prediction"
      ],
      "metadata": {
        "id": "cDoy_Ql5X8Yp"
      },
      "execution_count": null,
      "outputs": []
    },
    {
      "cell_type": "code",
      "source": [
        "import matplotlib.pyplot as plt\n",
        "\n",
        "def predict_and_visualize_frame(model, decoder, frame_data):\n",
        "    # Make prediction\n",
        "    prediction = predict_frame(model, frame_data)\n",
        "\n",
        "    # Decode the prediction\n",
        "    decoded_prediction = decoder.predict(prediction)\n",
        "\n",
        "    # Reshape and denormalize the decoded prediction\n",
        "    decoded_image = (decoded_prediction[0] * 255).astype(np.uint8)\n",
        "\n",
        "    # Display the original and predicted frames\n",
        "    fig, (ax1, ax2) = plt.subplots(1, 2, figsize=(10, 5))\n",
        "\n",
        "    # Original frame\n",
        "    original_frame = load_and_preprocess_frame(frame_data)\n",
        "    ax1.imshow(original_frame)\n",
        "    ax1.set_title('Original Frame')\n",
        "    ax1.axis('off')\n",
        "\n",
        "    # Predicted frame\n",
        "    ax2.imshow(decoded_image)\n",
        "    ax2.set_title('Predicted Frame')\n",
        "    ax2.axis('off')\n",
        "\n",
        "    plt.show()"
      ],
      "metadata": {
        "id": "MW4Z9UysbxK_"
      },
      "execution_count": null,
      "outputs": []
    },
    {
      "cell_type": "code",
      "source": [
        "loaded_decoder = tf.keras.models.load_model('/content/drive/MyDrive/ML Project/trained_decoder_4.keras', compile=False)\n",
        "\n",
        "# Assuming you have a frame to predict\n",
        "frame_to_predict = df['frame_data'].iloc[0]  # Get the first frame from your dataframe\n",
        "\n",
        "# Predict and visualize\n",
        "predict_and_visualize_frame(base_model, loaded_decoder, frame_to_predict)"
      ],
      "metadata": {
        "id": "fXGuxYEYbzk2"
      },
      "execution_count": null,
      "outputs": []
    }
  ]
}