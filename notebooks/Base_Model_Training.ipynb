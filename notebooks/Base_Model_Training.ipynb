{
  "nbformat": 4,
  "nbformat_minor": 0,
  "metadata": {
    "colab": {
      "provenance": [],
      "include_colab_link": true
    },
    "kernelspec": {
      "name": "python3",
      "display_name": "Python 3"
    },
    "language_info": {
      "name": "python"
    }
  },
  "cells": [
    {
      "cell_type": "markdown",
      "metadata": {
        "id": "view-in-github",
        "colab_type": "text"
      },
      "source": [
        "<a href=\"https://colab.research.google.com/github/samanthajmichael/ml_project/blob/main/notebooks/Base_Model_Training.ipynb\" target=\"_parent\"><img src=\"https://colab.research.google.com/assets/colab-badge.svg\" alt=\"Open In Colab\"/></a>"
      ]
    },
    {
      "cell_type": "code",
      "source": [
        "%%capture\n",
        "!pip install tensorflow ffmpeg-python opencv-python matplotlib"
      ],
      "metadata": {
        "id": "wt6BRYhRcAg7"
      },
      "execution_count": 13,
      "outputs": []
    },
    {
      "cell_type": "code",
      "source": [
        "from google.colab import drive\n",
        "drive.mount('/content/drive', force_remount=True)"
      ],
      "metadata": {
        "colab": {
          "base_uri": "https://localhost:8080/"
        },
        "id": "lvd-_3AEchng",
        "outputId": "9eb035b8-51ad-4c6f-f0f7-4f2dedbcc87d"
      },
      "execution_count": 14,
      "outputs": [
        {
          "output_type": "stream",
          "name": "stdout",
          "text": [
            "Mounted at /content/drive\n"
          ]
        }
      ]
    },
    {
      "cell_type": "code",
      "source": [
        "import tensorflow as tf\n",
        "import numpy as np\n",
        "import pandas as pd\n",
        "import cv2\n",
        "from tensorflow.keras.applications import ResNet50\n",
        "from tensorflow.keras.layers import Dense, GlobalAveragePooling2D\n",
        "from tensorflow.keras.models import Model"
      ],
      "metadata": {
        "id": "D-ecWosbcRII"
      },
      "execution_count": 15,
      "outputs": []
    },
    {
      "cell_type": "code",
      "execution_count": 16,
      "metadata": {
        "id": "yluJc9nwb6Td"
      },
      "outputs": [],
      "source": [
        "def load_and_preprocess_frame(frame_data, target_size=(224, 224)):\n",
        "    nparr = np.frombuffer(frame_data, np.uint8)\n",
        "    img = cv2.imdecode(nparr, cv2.IMREAD_COLOR)\n",
        "    img = cv2.cvtColor(img, cv2.COLOR_BGR2RGB)\n",
        "    img = cv2.resize(img, target_size)\n",
        "    img = img.astype(np.float32) / 255.0\n",
        "    return img\n",
        "\n",
        "def data_generator(df, batch_size):\n",
        "    while True:\n",
        "        batch = df.sample(n=batch_size)\n",
        "        frames = [load_and_preprocess_frame(frame_data) for frame_data in batch['frame_data']]\n",
        "        yield np.array(frames)\n",
        "\n",
        "def augment_frame(frame):\n",
        "    frame = tf.image.random_flip_left_right(frame)\n",
        "    frame = tf.image.random_brightness(frame, max_delta=0.1)\n",
        "    frame = tf.image.random_contrast(frame, lower=0.9, upper=1.1)\n",
        "    frame = tf.clip_by_value(frame, 0.0, 1.0)\n",
        "    return frame\n",
        "\n",
        "def create_base_model(input_shape=(224, 224, 3)):\n",
        "    base_model = ResNet50(weights=None, include_top=False, input_shape=input_shape)\n",
        "    x = GlobalAveragePooling2D()(base_model.output)\n",
        "    projection_head = Dense(128, activation='relu')(x)\n",
        "    return Model(inputs=base_model.input, outputs=projection_head)\n",
        "\n",
        "def nt_xent_loss(z_i, z_j, temperature=0.5):\n",
        "    z_i = tf.math.l2_normalize(z_i, axis=1)\n",
        "    z_j = tf.math.l2_normalize(z_j, axis=1)\n",
        "    similarity_matrix = tf.matmul(z_i, z_j, transpose_b=True) / temperature\n",
        "    batch_size = tf.shape(z_i)[0]\n",
        "    contrastive_labels = tf.range(batch_size)\n",
        "    loss = tf.nn.sparse_softmax_cross_entropy_with_logits(labels=contrastive_labels, logits=similarity_matrix)\n",
        "    return tf.reduce_mean(loss)\n",
        "\n",
        "@tf.function\n",
        "def train_step(model, optimizer, x):\n",
        "    x_i = augment_frame(x)\n",
        "    x_j = augment_frame(x)\n",
        "\n",
        "    with tf.GradientTape() as tape:\n",
        "        z_i = model(x_i)\n",
        "        z_j = model(x_j)\n",
        "        loss = nt_xent_loss(z_i, z_j)\n",
        "\n",
        "    gradients = tape.gradient(loss, model.trainable_variables)\n",
        "    optimizer.apply_gradients(zip(gradients, model.trainable_variables))\n",
        "    return loss\n",
        "\n",
        "def train_contrastive_model(df, epochs=1, batch_size=15, steps_per_epoch=50):\n",
        "    model = create_base_model()\n",
        "    optimizer = tf.keras.optimizers.Adam(learning_rate=0.001)\n",
        "\n",
        "    generator = data_generator(df, batch_size)\n",
        "\n",
        "    for epoch in range(epochs):\n",
        "        total_loss = 0\n",
        "\n",
        "        for _ in range(steps_per_epoch):\n",
        "            x = next(generator)\n",
        "            loss = train_step(model, optimizer, x)\n",
        "            total_loss += loss\n",
        "\n",
        "        avg_loss = total_loss / steps_per_epoch\n",
        "        print(f\"Epoch {epoch+1}/{epochs}, Avg Loss: {avg_loss:.4f}\")\n",
        "\n",
        "        # Optional: Save model checkpoint\n",
        "        if (epoch) % 10 == 0:\n",
        "            model.save(f'/content/model_checkpoint_epoch_{epoch+1}.h5')\n",
        "\n",
        "    return model"
      ]
    },
    {
      "cell_type": "code",
      "source": [
        "# Usage\n",
        "df = pd.read_pickle(\"/content/drive/MyDrive/ML Project/middle_15min_frames.pkl\")"
      ],
      "metadata": {
        "id": "sU5j48fhcVmO"
      },
      "execution_count": 17,
      "outputs": []
    },
    {
      "cell_type": "code",
      "source": [
        "print(df.info())\n",
        "print(f\"DataFrame shape: {df.shape}\")"
      ],
      "metadata": {
        "colab": {
          "base_uri": "https://localhost:8080/"
        },
        "id": "IUXbVHyodEuT",
        "outputId": "f508d7a1-4a47-4b5b-d4fa-94f5f4fff1d2"
      },
      "execution_count": 18,
      "outputs": [
        {
          "output_type": "stream",
          "name": "stdout",
          "text": [
            "<class 'pandas.core.frame.DataFrame'>\n",
            "RangeIndex: 20700 entries, 0 to 20699\n",
            "Data columns (total 2 columns):\n",
            " #   Column        Non-Null Count  Dtype \n",
            "---  ------        --------------  ----- \n",
            " 0   frame_number  20700 non-null  int64 \n",
            " 1   frame_data    20700 non-null  object\n",
            "dtypes: int64(1), object(1)\n",
            "memory usage: 323.6+ KB\n",
            "None\n",
            "DataFrame shape: (20700, 2)\n"
          ]
        }
      ]
    },
    {
      "cell_type": "code",
      "source": [
        "# Investigate frame numbers\n",
        "print(\"\\nFrame number statistics:\")\n",
        "print(df['frame_number'].describe())\n",
        "\n",
        "# Check for duplicate frame numbers\n",
        "duplicates = df['frame_number'].duplicated().sum()\n",
        "print(f\"\\nNumber of duplicate frame numbers: {duplicates}\")\n",
        "\n",
        "# Display a few rows of the DataFrame\n",
        "print(\"\\nFirst few rows of the DataFrame:\")\n",
        "print(df.head())"
      ],
      "metadata": {
        "colab": {
          "base_uri": "https://localhost:8080/"
        },
        "id": "DRPzkmGqdI2I",
        "outputId": "6ef9db03-8c51-4b7f-f243-6a3d426d728b"
      },
      "execution_count": 19,
      "outputs": [
        {
          "output_type": "stream",
          "name": "stdout",
          "text": [
            "\n",
            "Frame number statistics:\n",
            "count     20700.000000\n",
            "mean      92814.500000\n",
            "std        5975.719622\n",
            "min       82465.000000\n",
            "25%       87639.750000\n",
            "50%       92814.500000\n",
            "75%       97989.250000\n",
            "max      103164.000000\n",
            "Name: frame_number, dtype: float64\n",
            "\n",
            "Number of duplicate frame numbers: 0\n",
            "\n",
            "First few rows of the DataFrame:\n",
            "   frame_number                                         frame_data\n",
            "0         82465  b'\\xff\\xd8\\xff\\xe0\\x00\\x10JFIF\\x00\\x01\\x01\\x00...\n",
            "1         82466  b'\\xff\\xd8\\xff\\xe0\\x00\\x10JFIF\\x00\\x01\\x01\\x00...\n",
            "2         82467  b'\\xff\\xd8\\xff\\xe0\\x00\\x10JFIF\\x00\\x01\\x01\\x00...\n",
            "3         82468  b'\\xff\\xd8\\xff\\xe0\\x00\\x10JFIF\\x00\\x01\\x01\\x00...\n",
            "4         82469  b'\\xff\\xd8\\xff\\xe0\\x00\\x10JFIF\\x00\\x01\\x01\\x00...\n"
          ]
        }
      ]
    },
    {
      "cell_type": "code",
      "source": [
        "trained_model = train_contrastive_model(df, epochs=1, batch_size=15, steps_per_epoch=50)\n",
        "trained_model.save('/content/trained_base_model.h5')\n",
        "print(\"Training completed and model saved.\")"
      ],
      "metadata": {
        "id": "U2ckBxBuctCA",
        "colab": {
          "base_uri": "https://localhost:8080/"
        },
        "outputId": "f4bbc278-a942-46e9-de3d-a35fc09c7c6b"
      },
      "execution_count": 20,
      "outputs": [
        {
          "output_type": "stream",
          "name": "stderr",
          "text": [
            "WARNING:absl:You are saving your model as an HDF5 file via `model.save()` or `keras.saving.save_model(model)`. This file format is considered legacy. We recommend using instead the native Keras format, e.g. `model.save('my_model.keras')` or `keras.saving.save_model(model, 'my_model.keras')`. \n"
          ]
        },
        {
          "output_type": "stream",
          "name": "stdout",
          "text": [
            "Epoch 1/1, Avg Loss: 2.7077\n"
          ]
        },
        {
          "output_type": "stream",
          "name": "stderr",
          "text": [
            "WARNING:absl:You are saving your model as an HDF5 file via `model.save()` or `keras.saving.save_model(model)`. This file format is considered legacy. We recommend using instead the native Keras format, e.g. `model.save('my_model.keras')` or `keras.saving.save_model(model, 'my_model.keras')`. \n"
          ]
        },
        {
          "output_type": "stream",
          "name": "stdout",
          "text": [
            "Training completed and model saved.\n"
          ]
        }
      ]
    },
    {
      "cell_type": "code",
      "source": [
        "trained_model"
      ],
      "metadata": {
        "colab": {
          "base_uri": "https://localhost:8080/"
        },
        "id": "hChb1JtvKowx",
        "outputId": "b8e92434-6599-4c17-d9f9-9787b5944f47"
      },
      "execution_count": 21,
      "outputs": [
        {
          "output_type": "execute_result",
          "data": {
            "text/plain": [
              "<Functional name=functional_3, built=True>"
            ]
          },
          "metadata": {},
          "execution_count": 21
        }
      ]
    }
  ]
}